{
 "cells": [
  {
   "cell_type": "code",
   "execution_count": 4,
   "id": "2d0d110e-5df9-431f-b711-7ebf9503d5d8",
   "metadata": {},
   "outputs": [
    {
     "data": {
      "text/plain": [
       "0.0020101227"
      ]
     },
     "execution_count": 4,
     "metadata": {},
     "output_type": "execute_result"
    }
   ],
   "source": [
    "8.27E-8 + 7.44E-6 + 2.46E-4 + 1.66E-3 + 9.66E-5"
   ]
  },
  {
   "cell_type": "code",
   "execution_count": null,
   "id": "5543cc5a-9846-4e07-b32a-8670fb4c238d",
   "metadata": {},
   "outputs": [],
   "source": []
  }
 ],
 "metadata": {
  "kernelspec": {
   "display_name": "Python 3",
   "language": "python",
   "name": "python3"
  },
  "language_info": {
   "codemirror_mode": {
    "name": "ipython",
    "version": 3
   },
   "file_extension": ".py",
   "mimetype": "text/x-python",
   "name": "python",
   "nbconvert_exporter": "python",
   "pygments_lexer": "ipython3",
   "version": "3.6.13"
  }
 },
 "nbformat": 4,
 "nbformat_minor": 5
}
