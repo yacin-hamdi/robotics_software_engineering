{
 "cells": [
  {
   "cell_type": "code",
   "execution_count": 4,
   "id": "1e528b82-dbf6-4eeb-a3d3-8529a9cf38fb",
   "metadata": {},
   "outputs": [],
   "source": [
    "from sympy import symbols, sin, cos, pi, simplify\n",
    "from sympy.matrices import Matrix\n",
    "import numpy as np "
   ]
  },
  {
   "cell_type": "code",
   "execution_count": 6,
   "id": "133beca1-1499-4f4c-ad83-ed4d8d372cec",
   "metadata": {},
   "outputs": [],
   "source": [
    "q1, q2, q3, q4 = symbols('q1:5')\n",
    "rtd = 180./np.pi\n",
    "dtr = np.pi/180.\n"
   ]
  },
  {
   "cell_type": "code",
   "execution_count": 7,
   "id": "97a41d4e-8d4c-4ced-8164-adb3e752269d",
   "metadata": {},
   "outputs": [],
   "source": [
    "R_x = Matrix([[1,        0,      0  ], \n",
    "              [0,  cos(q1), -sin(q1)], \n",
    "              [0,   sin(q1),  cos(q1)]])\n",
    "\n",
    "R_y = Matrix([[cos(q2), 0, sin(q2)], \n",
    "             [0, 1, 0], \n",
    "             [-sin(q2), 0, cos(q2)]])\n",
    "\n",
    "R_z = Matrix([[cos(q3), -sin(q3), 0], \n",
    "             [sin(q3), cos(q3), 0], \n",
    "             [0, 0, 1]])\n"
   ]
  },
  {
   "cell_type": "code",
   "execution_count": 8,
   "id": "59a9c95b-e217-4619-8ccd-8081d3a7f090",
   "metadata": {},
   "outputs": [
    {
     "name": "stdout",
     "output_type": "stream",
     "text": [
      "rotation by X-axis by 45 degrees\n",
      "Matrix([[1.00000000000000, 0, 0], [0, 0.707106781186548, -0.707106781186547], [0, 0.707106781186547, 0.707106781186548]])\n",
      "rotation by Y-axis by 45 degrees\n",
      "Matrix([[0.707106781186548, 0, 0.707106781186547], [0, 1.00000000000000, 0], [-0.707106781186547, 0, 0.707106781186548]])\n",
      "rotation by Z-axis by 45 degrees\n",
      "Matrix([[0.707106781186548, -0.707106781186547, 0], [0.707106781186547, 0.707106781186548, 0], [0, 0, 1.00000000000000]])\n"
     ]
    }
   ],
   "source": [
    "print(\"rotation by X-axis by 45 degrees\")\n",
    "print(R_x.evalf(subs={q1:45*dtr}))\n",
    "print(\"rotation by Y-axis by 45 degrees\")\n",
    "print(R_y.evalf(subs={q2:45*dtr}))\n",
    "print(\"rotation by Z-axis by 45 degrees\")\n",
    "print(R_z.evalf(subs={q3:45*dtr}))"
   ]
  },
  {
   "cell_type": "code",
   "execution_count": null,
   "id": "251522a4-54f2-42e2-ad35-cc362cabda97",
   "metadata": {},
   "outputs": [],
   "source": []
  }
 ],
 "metadata": {
  "kernelspec": {
   "display_name": "Python [conda env:.conda-p3]",
   "language": "python",
   "name": "conda-env-.conda-p3-py"
  },
  "language_info": {
   "codemirror_mode": {
    "name": "ipython",
    "version": 3
   },
   "file_extension": ".py",
   "mimetype": "text/x-python",
   "name": "python",
   "nbconvert_exporter": "python",
   "pygments_lexer": "ipython3",
   "version": "3.11.4"
  }
 },
 "nbformat": 4,
 "nbformat_minor": 5
}
