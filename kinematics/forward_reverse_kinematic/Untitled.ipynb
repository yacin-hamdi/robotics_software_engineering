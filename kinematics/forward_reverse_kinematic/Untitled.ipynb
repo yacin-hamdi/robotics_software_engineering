{
 "cells": [
  {
   "cell_type": "code",
   "execution_count": 4,
   "id": "1e528b82-dbf6-4eeb-a3d3-8529a9cf38fb",
   "metadata": {},
   "outputs": [],
   "source": [
    "from sympy import symbols, sin, cos, pi, simplify\n",
    "from sympy.matrices import Matrix\n",
    "import numpy as np "
   ]
  },
  {
   "cell_type": "code",
   "execution_count": 6,
   "id": "133beca1-1499-4f4c-ad83-ed4d8d372cec",
   "metadata": {},
   "outputs": [],
   "source": [
    "q1, q2, q3, q4 = symbols('q1:5')\n",
    "rtd = 180./np.pi\n",
    "dtr = np.pi/180.\n"
   ]
  },
  {
   "cell_type": "code",
   "execution_count": 7,
   "id": "97a41d4e-8d4c-4ced-8164-adb3e752269d",
   "metadata": {},
   "outputs": [],
   "source": [
    "R_x = Matrix([[1,        0,      0  ], \n",
    "              [0,  cos(q1), -sin(q1)], \n",
    "              [0,   sin(q1),  cos(q1)]])\n",
    "\n",
    "R_y = Matrix([[cos(q2), 0, sin(q2)], \n",
    "             [0, 1, 0], \n",
    "             [-sin(q2), 0, cos(q2)]])\n",
    "\n",
    "R_z = Matrix([[cos(q3), -sin(q3), 0], \n",
    "             [sin(q3), cos(q3), 0], \n",
    "             [0, 0, 1]])\n"
   ]
  },
  {
   "cell_type": "code",
   "execution_count": 8,
   "id": "59a9c95b-e217-4619-8ccd-8081d3a7f090",
   "metadata": {},
   "outputs": [
    {
     "name": "stdout",
     "output_type": "stream",
     "text": [
      "rotation by X-axis by 45 degrees\n",
      "Matrix([[1.00000000000000, 0, 0], [0, 0.707106781186548, -0.707106781186547], [0, 0.707106781186547, 0.707106781186548]])\n",
      "rotation by Y-axis by 45 degrees\n",
      "Matrix([[0.707106781186548, 0, 0.707106781186547], [0, 1.00000000000000, 0], [-0.707106781186547, 0, 0.707106781186548]])\n",
      "rotation by Z-axis by 45 degrees\n",
      "Matrix([[0.707106781186548, -0.707106781186547, 0], [0.707106781186547, 0.707106781186548, 0], [0, 0, 1.00000000000000]])\n"
     ]
    }
   ],
   "source": [
    "print(\"rotation by X-axis by 45 degrees\")\n",
    "print(R_x.evalf(subs={q1:45*dtr}))\n",
    "print(\"rotation by Y-axis by 45 degrees\")\n",
    "print(R_y.evalf(subs={q2:45*dtr}))\n",
    "print(\"rotation by Z-axis by 45 degrees\")\n",
    "print(R_z.evalf(subs={q3:45*dtr}))"
   ]
  },
  {
   "cell_type": "code",
   "execution_count": 9,
   "id": "251522a4-54f2-42e2-ad35-cc362cabda97",
   "metadata": {},
   "outputs": [],
   "source": [
    "from sympy import symbols, sin, cos, pi, sqrt\n",
    "from sympy.matrices import Matrix\n"
   ]
  },
  {
   "cell_type": "code",
   "execution_count": 20,
   "id": "3f203d95-88eb-42af-b7e4-534f614a3294",
   "metadata": {},
   "outputs": [
    {
     "data": {
      "text/latex": [
       "$\\displaystyle \\left[\\begin{matrix}0.353553390593274 & -0.612372435695794 & 0.707106781186547\\\\0.866025403784439 & 0.5 & 0\\\\-0.353553390593274 & 0.612372435695794 & 0.707106781186548\\end{matrix}\\right]$"
      ],
      "text/plain": [
       "Matrix([\n",
       "[ 0.353553390593274, -0.612372435695794, 0.707106781186547],\n",
       "[ 0.866025403784439,                0.5,                 0],\n",
       "[-0.353553390593274,  0.612372435695794, 0.707106781186548]])"
      ]
     },
     "execution_count": 20,
     "metadata": {},
     "output_type": "execute_result"
    }
   ],
   "source": [
    "#rotation  about the Y and then Z axes intrinsic\n",
    "q1, q2 = symbols('q1:3')\n",
    "\n",
    "R_y = Matrix([[cos(q1), 0, sin(q1)], \n",
    "             [0, 1, 0], \n",
    "             [-sin(q1), 0, cos(q1)]])\n",
    "R_z = Matrix([[cos(q2), -sin(q2), 0],\n",
    "             [sin(q2), cos(q2), 0], \n",
    "            [0, 0, 1]])\n",
    "\n",
    "YZ_intrinsic_sym = R_y * R_z\n",
    "\n",
    "YZ_intrinsic_num = YZ_intrinsic_sym.evalf(subs={q1:dtr*45, q2:dtr*60})\n",
    "YZ_intrinsic_num"
   ]
  },
  {
   "cell_type": "code",
   "execution_count": 21,
   "id": "05132f10-4269-47f6-a3aa-c3b2a1a84696",
   "metadata": {},
   "outputs": [
    {
     "data": {
      "text/latex": [
       "$\\displaystyle \\left[\\begin{matrix}0.353553390593274 & -0.866025403784439 & 0.353553390593274\\\\0.612372435695794 & 0.5 & 0.612372435695794\\\\-0.707106781186547 & 0 & 0.707106781186548\\end{matrix}\\right]$"
      ],
      "text/plain": [
       "Matrix([\n",
       "[ 0.353553390593274, -0.866025403784439, 0.353553390593274],\n",
       "[ 0.612372435695794,                0.5, 0.612372435695794],\n",
       "[-0.707106781186547,                  0, 0.707106781186548]])"
      ]
     },
     "execution_count": 21,
     "metadata": {},
     "output_type": "execute_result"
    }
   ],
   "source": [
    "q1, q2 = symbols('q1:3')\n",
    "R_y = Matrix([[cos(q1), 0, sin(q1)], \n",
    "             [0, 1, 0], \n",
    "             [-sin(q1), 0, cos(q1)]])\n",
    "R_z = Matrix([[cos(q2), -sin(q2), 0], \n",
    "             [sin(q2), cos(q2), 0], \n",
    "             [0, 0, 1]])\n",
    "ZY_extrinsic_sym = R_z * R_y\n",
    "ZY_extrinsic_num = ZY_extrinsic_sym.evalf(subs={q1:dtr*45, q2:dtr*60})\n",
    "ZY_extrinsic_num"
   ]
  },
  {
   "cell_type": "code",
   "execution_count": 17,
   "id": "608b7f63-ac71-49b8-9721-0e0fd54d93d3",
   "metadata": {},
   "outputs": [
    {
     "data": {
      "text/latex": [
       "$\\displaystyle \\left[\\begin{matrix}0.353553390593274 & -0.612372435695794 & 0.707106781186548\\\\0.866025403784439 & 0.5 & 0\\\\-0.353553390593274 & 0.612372435695794 & 0.707106781186548\\end{matrix}\\right]$"
      ],
      "text/plain": [
       "Matrix([\n",
       "[ 0.353553390593274, -0.612372435695794, 0.707106781186548],\n",
       "[ 0.866025403784439,                0.5,                 0],\n",
       "[-0.353553390593274,  0.612372435695794, 0.707106781186548]])"
      ]
     },
     "execution_count": 17,
     "metadata": {},
     "output_type": "execute_result"
    }
   ],
   "source": [
    "from sympy import symbols, cos, sin, pi, sqrt\n",
    "from sympy.matrices import Matrix\n",
    "\n",
    "### Create symbols for joint variables\n",
    "q1, q2 = symbols('q1:3')\n",
    "\n",
    "# Create a symbolic matrix representing an extrinsic sequence of rotations \n",
    "  # about the Z and then Y axes. Let the rotation about the Y axis be described\n",
    "  # by q1 and the rotation about Z by q2. \n",
    "####### TO DO ########\n",
    "# Replace R_y and R_z with the appropriate (symbolic) elementary rotation matrices \n",
    "  # and then compute ZY_extrinsic. \n",
    "R_y = Matrix([[ cos(q1),        0, sin(q1)],\n",
    "              [ 0,              1,       0],\n",
    "              [-sin(q1),        0, cos(q1)]])\n",
    "R_z = Matrix([[ cos(q2), -sin(q2),       0],\n",
    "              [ sin(q2),  cos(q2),       0],\n",
    "              [       0,        0,       1]])\n",
    "ZY_extrinsic_sym = R_y * R_z\n",
    "ZY_extrinsic_num = ZY_extrinsic_sym.evalf(subs={q1: pi/4, q2: pi/3})\n",
    "ZY_extrinsic_num"
   ]
  },
  {
   "cell_type": "code",
   "execution_count": null,
   "id": "8a04517a-aa25-46bd-83cc-917a7b5ff918",
   "metadata": {},
   "outputs": [],
   "source": []
  }
 ],
 "metadata": {
  "kernelspec": {
   "display_name": "Python [conda env:.conda-p3]",
   "language": "python",
   "name": "conda-env-.conda-p3-py"
  },
  "language_info": {
   "codemirror_mode": {
    "name": "ipython",
    "version": 3
   },
   "file_extension": ".py",
   "mimetype": "text/x-python",
   "name": "python",
   "nbconvert_exporter": "python",
   "pygments_lexer": "ipython3",
   "version": "3.11.4"
  }
 },
 "nbformat": 4,
 "nbformat_minor": 5
}
