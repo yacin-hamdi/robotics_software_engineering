{
 "cells": [
  {
   "cell_type": "code",
   "execution_count": 4,
   "id": "1e528b82-dbf6-4eeb-a3d3-8529a9cf38fb",
   "metadata": {},
   "outputs": [],
   "source": [
    "from sympy import symbols, sin, cos, pi, simplify\n",
    "from sympy.matrices import Matrix\n",
    "import numpy as np "
   ]
  },
  {
   "cell_type": "code",
   "execution_count": 6,
   "id": "133beca1-1499-4f4c-ad83-ed4d8d372cec",
   "metadata": {},
   "outputs": [],
   "source": [
    "q1, q2, q3, q4 = symbols('q1:5')\n",
    "rtd = 180./np.pi\n",
    "dtr = np.pi/180.\n"
   ]
  },
  {
   "cell_type": "code",
   "execution_count": 7,
   "id": "97a41d4e-8d4c-4ced-8164-adb3e752269d",
   "metadata": {},
   "outputs": [],
   "source": [
    "R_x = Matrix([[1,        0,      0  ], \n",
    "              [0,  cos(q1), -sin(q1)], \n",
    "              [0,   sin(q1),  cos(q1)]])\n",
    "\n",
    "R_y = Matrix([[cos(q2), 0, sin(q2)], \n",
    "             [0, 1, 0], \n",
    "             [-sin(q2), 0, cos(q2)]])\n",
    "\n",
    "R_z = Matrix([[cos(q3), -sin(q3), 0], \n",
    "             [sin(q3), cos(q3), 0], \n",
    "             [0, 0, 1]])\n"
   ]
  },
  {
   "cell_type": "code",
   "execution_count": 8,
   "id": "59a9c95b-e217-4619-8ccd-8081d3a7f090",
   "metadata": {},
   "outputs": [
    {
     "name": "stdout",
     "output_type": "stream",
     "text": [
      "rotation by X-axis by 45 degrees\n",
      "Matrix([[1.00000000000000, 0, 0], [0, 0.707106781186548, -0.707106781186547], [0, 0.707106781186547, 0.707106781186548]])\n",
      "rotation by Y-axis by 45 degrees\n",
      "Matrix([[0.707106781186548, 0, 0.707106781186547], [0, 1.00000000000000, 0], [-0.707106781186547, 0, 0.707106781186548]])\n",
      "rotation by Z-axis by 45 degrees\n",
      "Matrix([[0.707106781186548, -0.707106781186547, 0], [0.707106781186547, 0.707106781186548, 0], [0, 0, 1.00000000000000]])\n"
     ]
    }
   ],
   "source": [
    "print(\"rotation by X-axis by 45 degrees\")\n",
    "print(R_x.evalf(subs={q1:45*dtr}))\n",
    "print(\"rotation by Y-axis by 45 degrees\")\n",
    "print(R_y.evalf(subs={q2:45*dtr}))\n",
    "print(\"rotation by Z-axis by 45 degrees\")\n",
    "print(R_z.evalf(subs={q3:45*dtr}))"
   ]
  },
  {
   "cell_type": "code",
   "execution_count": 9,
   "id": "251522a4-54f2-42e2-ad35-cc362cabda97",
   "metadata": {},
   "outputs": [],
   "source": [
    "from sympy import symbols, sin, cos, pi, sqrt\n",
    "from sympy.matrices import Matrix\n"
   ]
  },
  {
   "cell_type": "code",
   "execution_count": 20,
   "id": "3f203d95-88eb-42af-b7e4-534f614a3294",
   "metadata": {},
   "outputs": [
    {
     "data": {
      "text/latex": [
       "$\\displaystyle \\left[\\begin{matrix}0.353553390593274 & -0.612372435695794 & 0.707106781186547\\\\0.866025403784439 & 0.5 & 0\\\\-0.353553390593274 & 0.612372435695794 & 0.707106781186548\\end{matrix}\\right]$"
      ],
      "text/plain": [
       "Matrix([\n",
       "[ 0.353553390593274, -0.612372435695794, 0.707106781186547],\n",
       "[ 0.866025403784439,                0.5,                 0],\n",
       "[-0.353553390593274,  0.612372435695794, 0.707106781186548]])"
      ]
     },
     "execution_count": 20,
     "metadata": {},
     "output_type": "execute_result"
    }
   ],
   "source": [
    "#rotation  about the Y and then Z axes intrinsic\n",
    "q1, q2 = symbols('q1:3')\n",
    "\n",
    "R_y = Matrix([[cos(q1), 0, sin(q1)], \n",
    "             [0, 1, 0], \n",
    "             [-sin(q1), 0, cos(q1)]])\n",
    "R_z = Matrix([[cos(q2), -sin(q2), 0],\n",
    "             [sin(q2), cos(q2), 0], \n",
    "            [0, 0, 1]])\n",
    "\n",
    "YZ_intrinsic_sym = R_y * R_z\n",
    "\n",
    "YZ_intrinsic_num = YZ_intrinsic_sym.evalf(subs={q1:dtr*45, q2:dtr*60})\n",
    "YZ_intrinsic_num"
   ]
  },
  {
   "cell_type": "code",
   "execution_count": 21,
   "id": "05132f10-4269-47f6-a3aa-c3b2a1a84696",
   "metadata": {},
   "outputs": [
    {
     "data": {
      "text/latex": [
       "$\\displaystyle \\left[\\begin{matrix}0.353553390593274 & -0.866025403784439 & 0.353553390593274\\\\0.612372435695794 & 0.5 & 0.612372435695794\\\\-0.707106781186547 & 0 & 0.707106781186548\\end{matrix}\\right]$"
      ],
      "text/plain": [
       "Matrix([\n",
       "[ 0.353553390593274, -0.866025403784439, 0.353553390593274],\n",
       "[ 0.612372435695794,                0.5, 0.612372435695794],\n",
       "[-0.707106781186547,                  0, 0.707106781186548]])"
      ]
     },
     "execution_count": 21,
     "metadata": {},
     "output_type": "execute_result"
    }
   ],
   "source": [
    "q1, q2 = symbols('q1:3')\n",
    "R_y = Matrix([[cos(q1), 0, sin(q1)], \n",
    "             [0, 1, 0], \n",
    "             [-sin(q1), 0, cos(q1)]])\n",
    "R_z = Matrix([[cos(q2), -sin(q2), 0], \n",
    "             [sin(q2), cos(q2), 0], \n",
    "             [0, 0, 1]])\n",
    "ZY_extrinsic_sym = R_z * R_y\n",
    "ZY_extrinsic_num = ZY_extrinsic_sym.evalf(subs={q1:dtr*45, q2:dtr*60})\n",
    "ZY_extrinsic_num"
   ]
  },
  {
   "cell_type": "code",
   "execution_count": 17,
   "id": "608b7f63-ac71-49b8-9721-0e0fd54d93d3",
   "metadata": {},
   "outputs": [
    {
     "data": {
      "text/latex": [
       "$\\displaystyle \\left[\\begin{matrix}0.353553390593274 & -0.612372435695794 & 0.707106781186548\\\\0.866025403784439 & 0.5 & 0\\\\-0.353553390593274 & 0.612372435695794 & 0.707106781186548\\end{matrix}\\right]$"
      ],
      "text/plain": [
       "Matrix([\n",
       "[ 0.353553390593274, -0.612372435695794, 0.707106781186548],\n",
       "[ 0.866025403784439,                0.5,                 0],\n",
       "[-0.353553390593274,  0.612372435695794, 0.707106781186548]])"
      ]
     },
     "execution_count": 17,
     "metadata": {},
     "output_type": "execute_result"
    }
   ],
   "source": [
    "from sympy import symbols, cos, sin, pi, sqrt\n",
    "from sympy.matrices import Matrix\n",
    "\n",
    "### Create symbols for joint variables\n",
    "q1, q2 = symbols('q1:3')\n",
    "\n",
    "# Create a symbolic matrix representing an extrinsic sequence of rotations \n",
    "  # about the Z and then Y axes. Let the rotation about the Y axis be described\n",
    "  # by q1 and the rotation about Z by q2. \n",
    "####### TO DO ########\n",
    "# Replace R_y and R_z with the appropriate (symbolic) elementary rotation matrices \n",
    "  # and then compute ZY_extrinsic. \n",
    "R_y = Matrix([[ cos(q1),        0, sin(q1)],\n",
    "              [ 0,              1,       0],\n",
    "              [-sin(q1),        0, cos(q1)]])\n",
    "R_z = Matrix([[ cos(q2), -sin(q2),       0],\n",
    "              [ sin(q2),  cos(q2),       0],\n",
    "              [       0,        0,       1]])\n",
    "ZY_extrinsic_sym = R_y * R_z\n",
    "ZY_extrinsic_num = ZY_extrinsic_sym.evalf(subs={q1: pi/4, q2: pi/3})\n",
    "ZY_extrinsic_num"
   ]
  },
  {
   "cell_type": "code",
   "execution_count": 10,
   "id": "8a04517a-aa25-46bd-83cc-917a7b5ff918",
   "metadata": {},
   "outputs": [
    {
     "data": {
      "text/plain": [
       "(45.0000000000000, 60.0000000000000, 30.0000000000000)"
      ]
     },
     "execution_count": 10,
     "metadata": {},
     "output_type": "execute_result"
    }
   ],
   "source": [
    "import numpy as np\n",
    "from sympy.matrices import Matrix\n",
    "from sympy import symbols, atan2, sqrt\n",
    "\n",
    "rtd = 180 / np.pi\n",
    "# Fixed Axis X-Y-Z Rotation Matrix\n",
    "R_XYZ = Matrix([[ 0.353553390593274, -0.306186217847897, 0.883883476483184],\n",
    "            [ 0.353553390593274,  0.918558653543692, 0.176776695296637],\n",
    "            [-0.866025403784439,               0.25, 0.433012701892219]])\n",
    "\n",
    "######## TO DO ##########\n",
    "# Calculate the Euler angles that produces a rotation equivalent to R (above)\n",
    "# NOTE: Be sure your answer has units of DEGREES!\n",
    "alpha = atan2(R_XYZ[3], R_XYZ[0]) * rtd # rotation about Z-axis\n",
    "beta  = atan2(-R_XYZ[6], sqrt(R_XYZ[0] * R_XYZ[0] + R_XYZ[3] * R_XYZ[3])) * rtd # rotation about Y-axis\n",
    "gamma = atan2(R_XYZ[7], R_XYZ[8]) * rtd # rotation about X-axis\n",
    "alpha, beta, gamma"
   ]
  },
  {
   "cell_type": "code",
   "execution_count": 24,
   "id": "da3d24d6-6ae1-4fda-844e-d2177aaa4958",
   "metadata": {},
   "outputs": [
    {
     "data": {
      "text/latex": [
       "$\\displaystyle \\left[\\begin{matrix}35.3367879231231\\\\0\\\\1.53976466853329\\\\1.0\\end{matrix}\\right]$"
      ],
      "text/plain": [
       "Matrix([\n",
       "[35.3367879231231],\n",
       "[               0],\n",
       "[1.53976466853329],\n",
       "[             1.0]])"
      ]
     },
     "execution_count": 24,
     "metadata": {},
     "output_type": "execute_result"
    }
   ],
   "source": [
    "from sympy import symbols, sin, cos, pi, simplify\n",
    "from sympy.matrices import Matrix\n",
    "dtr = np.pi / 180\n",
    "q1 = symbols('q1')\n",
    "\n",
    "P_b = Matrix([15., 0., 42.0, 1.])\n",
    "T = Matrix([\n",
    "    [cos(q1), 0, sin(q1), 1.],\n",
    "    [0, 1, 0, 0], \n",
    "    [-sin(q1), 0, cos(q1), 30], \n",
    "    [0, 0, 0, 1]\n",
    "])\n",
    "\n",
    "P_a = simplify(T * P_b)\n",
    "P_a = P_a.evalf(subs={q1:110*dtr})\n",
    "P_a"
   ]
  },
  {
   "cell_type": "code",
   "execution_count": 27,
   "id": "2116cbd7-bae6-4a5a-8bbd-178dddeef45b",
   "metadata": {},
   "outputs": [
    {
     "data": {
      "text/latex": [
       "$\\displaystyle \\left[\\begin{matrix}6.12323399573677 \\cdot 10^{-17} & -1.0 & -6.12323399573677 \\cdot 10^{-17}\\\\0 & 6.12323399573677 \\cdot 10^{-17} & -1.0\\\\1.0 & 6.12323399573677 \\cdot 10^{-17} & 3.74939945665464 \\cdot 10^{-33}\\end{matrix}\\right]$"
      ],
      "text/plain": [
       "Matrix([\n",
       "[6.12323399573677e-17,                 -1.0, -6.12323399573677e-17],\n",
       "[                   0, 6.12323399573677e-17,                  -1.0],\n",
       "[                 1.0, 6.12323399573677e-17,  3.74939945665464e-33]])"
      ]
     },
     "execution_count": 27,
     "metadata": {},
     "output_type": "execute_result"
    }
   ],
   "source": [
    "from sympy import symbols, sin, cos, simplify\n",
    "from sympy.matrices import Matrix\n",
    "\n",
    "q1, q2, q3, q4 = symbols('q1:5')\n",
    "dtr = np.pi/180\n",
    "rtd = 180/np.pi\n",
    "\n",
    "def rot_x(q):\n",
    "    R_x = Matrix([\n",
    "        [1, 0, 0], \n",
    "        [0, cos(q), -sin(q)], \n",
    "        [0, sin(q), cos(q)]\n",
    "    ])\n",
    "    \n",
    "    return R_x\n",
    "\n",
    "def rot_y(q):\n",
    "    R_y = Matrix([\n",
    "        [cos(q), 0, sin(q)], \n",
    "        [0, 1, 0], \n",
    "        [-sin(q), 0, cos(q)]\n",
    "    ])\n",
    "    \n",
    "    return R_y\n",
    "\n",
    "def rot_z(q):\n",
    "    R_z = Matrix([\n",
    "        [cos(q), -sin(q), 0], \n",
    "        [sin(q), cos(q), 0], \n",
    "        [0, 0, 1]\n",
    "    ])\n",
    "    \n",
    "    return R_z\n",
    "\n",
    "Ra = Matrix([[1, 0, 0], \n",
    "             [0, 1, 0], \n",
    "             [0, 0, 1]])\n",
    "\n",
    "#rotations A->B->E\n",
    "Rb_a = rot_y(q1)\n",
    "Re_b = rot_x(q2)\n",
    "\n",
    "#rotations A->C->D->E\n",
    "Rc_a = Ra\n",
    "Rd_c = rot_x(q3)\n",
    "Re_d = rot_z(q4)\n",
    "\n",
    "# translations\n",
    "tb_a = Matrix([-2, 2, 4])\n",
    "te_b = Matrix([0, 2, 0])\n",
    "tc_a = Matrix([4, 4, 0])\n",
    "td_c = Matrix([-3, 3, 2])\n",
    "te_d = Matrix([-3, 2, 3])\n",
    "\n"
   ]
  },
  {
   "cell_type": "code",
   "execution_count": null,
   "id": "f1ac7d23-4381-47ac-85db-3a5a5f96c568",
   "metadata": {},
   "outputs": [],
   "source": []
  }
 ],
 "metadata": {
  "kernelspec": {
   "display_name": "Python [conda env:.conda-p3]",
   "language": "python",
   "name": "conda-env-.conda-p3-py"
  },
  "language_info": {
   "codemirror_mode": {
    "name": "ipython",
    "version": 3
   },
   "file_extension": ".py",
   "mimetype": "text/x-python",
   "name": "python",
   "nbconvert_exporter": "python",
   "pygments_lexer": "ipython3",
   "version": "3.11.4"
  }
 },
 "nbformat": 4,
 "nbformat_minor": 5
}
